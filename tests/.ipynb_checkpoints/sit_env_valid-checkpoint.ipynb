{
 "cells": [
  {
   "cell_type": "code",
   "execution_count": 55,
   "id": "47b765a8-f52e-41b3-9794-3040ad13c229",
   "metadata": {
    "tags": []
   },
   "outputs": [],
   "source": [
    "import time\n",
    "from selenium import webdriver"
   ]
  },
  {
   "cell_type": "code",
   "execution_count": 56,
   "id": "30ec5d7e-7098-4041-a9ba-a057d0c2be15",
   "metadata": {
    "tags": []
   },
   "outputs": [],
   "source": [
    "# 啟動Chrome瀏覽器\n",
    "driver = webdriver.Chrome()"
   ]
  },
  {
   "cell_type": "code",
   "execution_count": 57,
   "id": "b26206a9-9e63-4aea-89a2-70067abb9912",
   "metadata": {
    "tags": []
   },
   "outputs": [],
   "source": [
    "# 瀏覽指定網址\n",
    "driver.get('https://www.google.com')"
   ]
  },
  {
   "cell_type": "code",
   "execution_count": 58,
   "id": "0f265fba-d002-4036-b60e-bd7c8ff2e6c2",
   "metadata": {
    "tags": []
   },
   "outputs": [
    {
     "name": "stdout",
     "output_type": "stream",
     "text": [
      "Selenium與ChromeDriver配置成功！\n"
     ]
    }
   ],
   "source": [
    "# 確認網頁標題是否包含\"Google\"\n",
    "assert \"Google\" in driver.title\n",
    "print(\"Selenium與ChromeDriver配置成功！\")"
   ]
  },
  {
   "cell_type": "code",
   "execution_count": 59,
   "id": "9d8d522a-e023-4371-a50b-6092e866fd45",
   "metadata": {},
   "outputs": [],
   "source": [
    "# 暫停 5 秒\n",
    "time.sleep(5)"
   ]
  },
  {
   "cell_type": "code",
   "execution_count": 60,
   "id": "eff5129c-7787-49a1-9b22-ef9b135a822c",
   "metadata": {},
   "outputs": [],
   "source": [
    "driver.get('https://www.python.org/')"
   ]
  },
  {
   "cell_type": "code",
   "execution_count": 61,
   "id": "64308836-6b96-4f84-8df5-8d6df0a44832",
   "metadata": {
    "tags": []
   },
   "outputs": [
    {
     "ename": "AssertionError",
     "evalue": "",
     "output_type": "error",
     "traceback": [
      "\u001b[0;31m---------------------------------------------------------------------------\u001b[0m",
      "\u001b[0;31mAssertionError\u001b[0m                            Traceback (most recent call last)",
      "Cell \u001b[0;32mIn[61], line 2\u001b[0m\n\u001b[1;32m      1\u001b[0m \u001b[38;5;66;03m# 確認網頁標題是否包含\"Python.org\"\u001b[39;00m\n\u001b[0;32m----> 2\u001b[0m \u001b[38;5;28;01massert\u001b[39;00m \u001b[38;5;124m\"\u001b[39m\u001b[38;5;124mPython.org1\u001b[39m\u001b[38;5;124m\"\u001b[39m \u001b[38;5;129;01min\u001b[39;00m driver\u001b[38;5;241m.\u001b[39mtitle\n\u001b[1;32m      3\u001b[0m \u001b[38;5;28mprint\u001b[39m(\u001b[38;5;124m\"\u001b[39m\u001b[38;5;124mSelenium與ChromeDriver配置成功！\u001b[39m\u001b[38;5;124m\"\u001b[39m)\n",
      "\u001b[0;31mAssertionError\u001b[0m: "
     ]
    }
   ],
   "source": [
    "# 確認網頁標題是否包含\"Python.org\"\n",
    "assert \"Python.org1\" in driver.title\n",
    "print(\"Selenium與ChromeDriver配置成功！\")"
   ]
  },
  {
   "cell_type": "code",
   "execution_count": null,
   "id": "b89e3c73-a344-4e0f-b8c1-85d054c20eff",
   "metadata": {},
   "outputs": [],
   "source": [
    "# 暫停 5 秒\n",
    "time.sleep(5)"
   ]
  },
  {
   "cell_type": "code",
   "execution_count": null,
   "id": "5d9494e3-ca66-4a9a-bff8-7e5d18284b76",
   "metadata": {
    "tags": []
   },
   "outputs": [],
   "source": [
    "# 關閉瀏覽器視窗\n",
    "driver.quit()"
   ]
  }
 ],
 "metadata": {
  "kernelspec": {
   "display_name": "Python 3 (ipykernel)",
   "language": "python",
   "name": "python3"
  },
  "language_info": {
   "codemirror_mode": {
    "name": "ipython",
    "version": 3
   },
   "file_extension": ".py",
   "mimetype": "text/x-python",
   "name": "python",
   "nbconvert_exporter": "python",
   "pygments_lexer": "ipython3",
   "version": "3.10.6"
  }
 },
 "nbformat": 4,
 "nbformat_minor": 5
}
